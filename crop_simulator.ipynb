{
  "cells": [
    {
      "cell_type": "markdown",
      "metadata": {
        "id": "view-in-github",
        "colab_type": "text"
      },
      "source": [
        "<a href=\"https://colab.research.google.com/github/marcosoares-92/crop_model_proj_case_soybean_uci/blob/main/crop_simulator.ipynb\" target=\"_parent\"><img src=\"https://colab.research.google.com/assets/colab-badge.svg\" alt=\"Open In Colab\"/></a>"
      ]
    },
    {
      "cell_type": "markdown",
      "metadata": {
        "id": "_7gRpQLXQSID"
      },
      "source": [
        "# Crop Simulator\n",
        "## Deep Learning for Simulating a Real Soybean Production\n",
        "###### ***The Ideal Tool for Process Improvement, and Data Collection, Analyzing and Modelling Training***\n",
        "\n",
        "-----------------------------------------------------\n",
        "\n",
        "###### ***Deep Learning para simular uma produção real de soja - a ferramenta ideal para treinamento em melhoria de processos e coleta, análise e modelagem de dados***\n",
        "\n",
        "-----------------------------------------------------\n",
        "\n",
        "###### Contact:\n",
        "  ***Marco Cesar Prado Soares, Data Coordinator @ Bayer Crop Science LATAM***\n",
        "  \n",
        "\t - marcosoares.feq@gmail.com\n",
        "\t - marco.soares@bayer.com"
      ]
    },
    {
      "cell_type": "code",
      "source": [
        "# @title Instrução para uso!\n",
        "# @markdown Existe um botão **`Play`** no canto superior esquerdo de cada célula.\n",
        "\n",
        "# @markdown Após selecionar os parâmetros e ler as instruções de cada células, clique no **`Play`** ou pressione **`Shift` + `Enter`** para executar o comando."
      ],
      "metadata": {
        "cellView": "form",
        "id": "_uwxKtDn6RSd"
      },
      "execution_count": null,
      "outputs": []
    },
    {
      "cell_type": "code",
      "execution_count": null,
      "metadata": {
        "id": "0XBUmMCa8-i2",
        "cellView": "form"
      },
      "outputs": [],
      "source": [
        "# @title Production Start-up!\n",
        "# @markdown Clique no botão **`Play`** à esquerda para iniciar a operação da sua Plantação de Soja! { run: \"auto\", vertical-output: true, display-mode: \"form\" }\n",
        "\n",
        "\n",
        "class LoadCropSimulator:\n",
        "  \"\"\"Load Crop Simulator on your environment without installing with pip install.\"\"\"\n",
        "\n",
        "  def __init__(self):\n",
        "    \"\"\"\n",
        "      DEFINE COMMANDS (Bash script) and success messages and set timeout.\n",
        "    \"\"\"\n",
        "    # Clone git repository:\n",
        "    self.cmd_line1 = \"\"\"git clone https://github.com/marcosoares-92/crop_model_proj_case_soybean_uci crop_model_proj_case_soybean_uci\"\"\"\n",
        "\n",
        "    # Move crop_simulator directory to root (Python workspace):\n",
        "    self.cmd_line2 = \"\"\"mv crop_model_proj_case_soybean_uci/crop_simulator .\"\"\"\n",
        "    # Move KMeans model to root\n",
        "    self.cmd_line3 = \"\"\"mv crop_model_proj_case_soybean_uci/models_and_encodings/kmeans_model.pkl .\"\"\"\n",
        "    # Move LSTM model to root\n",
        "    self.cmd_line4 = \"\"\"mv crop_model_proj_case_soybean_uci/models_and_encodings/lstm.keras .\"\"\"\n",
        "\n",
        "\n",
        "\n",
        "  def set_process (self, cmd_line):\n",
        "    \"\"\"Define a process to run from a command:\n",
        "    : param: cmd_line (str): command that is passed to a command line interface.\n",
        "      Attention: different parts and flags must be separated by single whitespaces.\n",
        "    \"\"\"\n",
        "    from subprocess import Popen, PIPE, TimeoutExpired\n",
        "\n",
        "    proc = Popen(cmd_line.split(\" \"), stdout = PIPE, stderr = PIPE)\n",
        "    \"\"\"cmd_line = \"git clone https://github.com/marcosoares-92/IndustrialDataScienceWorkflow IndustrialDataScienceWorkflow\"\n",
        "      will lead to the list ['git', 'clone', 'https://github.com/marcosoares-92/IndustrialDataScienceWorkflow', 'IndustrialDataScienceWorkflow']\n",
        "      after splitting the string in whitespaces, what is done by .split(\" \") method.\n",
        "    \"\"\"\n",
        "    return proc\n",
        "\n",
        "\n",
        "  def run_process (self, proc, msg = ''):\n",
        "    \"\"\"Run process defined by method set_process.\n",
        "      : param: proc: process execution object returned from set_process.\n",
        "      : param: msg (str): user-defined confirmation method.\n",
        "      : param: timeout (int): number of seconds to wait for a command to run, before considering error.\n",
        "    \"\"\"\n",
        "\n",
        "    try:\n",
        "        output, error = proc.communicate()\n",
        "        if len(msg > 0):\n",
        "          print (msg)\n",
        "    except:\n",
        "        # General exception\n",
        "        output, error = proc.communicate()\n",
        "\n",
        "    return output, error\n",
        "\n",
        "\n",
        "  def clone_repo(self):\n",
        "    \"\"\"Clone GitHub Repository.\"\"\"\n",
        "\n",
        "    # SET PROCESS:\n",
        "    self.proc1 = self.set_process (self.cmd_line1)\n",
        "    # RUN PROCESS:\n",
        "    self.output1, self.error1 = self.run_process(self.proc1)\n",
        "\n",
        "    return self\n",
        "\n",
        "\n",
        "  def move_pkg(self):\n",
        "    \"\"\"Move package and models to the working directory, to make it available.\"\"\"\n",
        "\n",
        "    # SET PROCESS:\n",
        "    self.proc2 = self.set_process (self.cmd_line2)\n",
        "    # RUN PROCESS:\n",
        "    self.output2, self.error2 = self.run_process(self.proc2)\n",
        "    # SET PROCESS:\n",
        "    self.proc3 = self.set_process (self.cmd_line3)\n",
        "    # RUN PROCESS:\n",
        "    self.output3, self.error3 = self.run_process(self.proc3)\n",
        "    # SET PROCESS:\n",
        "    self.proc4 = self.set_process (self.cmd_line4)\n",
        "    # RUN PROCESS:\n",
        "    self.output4, self.error4 = self.run_process(self.proc4)\n",
        "\n",
        "\n",
        "    return self\n",
        "\n",
        "\n",
        "  def move_pkg_alternative(self):\n",
        "    \"\"\"Alternative using the Bash utils module (shutil)\"\"\"\n",
        "    # importing shutil module\n",
        "    import shutil\n",
        "\n",
        "    # Source path\n",
        "    source = 'crop_model_proj_case_soybean_uci/models_and_encodings'\n",
        "    # Destination path\n",
        "    destination = '.'\n",
        "    # Move the content of source to destination\n",
        "    dest = shutil.move(source, destination)\n",
        "\n",
        "    return self\n",
        "\n",
        "\n",
        "loader = LoadCropSimulator()\n",
        "loader = loader.clone_repo()\n",
        "loader = loader.move_pkg()\n",
        "\n",
        "from crop_simulator import *"
      ]
    },
    {
      "cell_type": "code",
      "execution_count": null,
      "metadata": {
        "id": "_VLrJ7NpX241",
        "cellView": "form"
      },
      "outputs": [],
      "source": [
        "# @title Painel de Controle da Produção\n",
        "# @markdown Defina abaixo os valores de simulação e por fim clique no botão **`Play`** à esquerda para iniciar.\n",
        "\n",
        "# @markdown - Forneça a data de início da produção:\n",
        "Inicio = '2024-02-21'  # @param {type: \"date\"}\n",
        "# @markdown - Forneça a data de fim da produção:\n",
        "Fim = '2025-10-01'  # @param {type: \"date\"}\n",
        "\n",
        "# @markdown - Forneça híbrido de soja (cultivar) utilizado:\n",
        "Hibrido = \"MONSOY 8330I2X\"  # @param ['74K75RSF CE', '77HO111I2X - GUAPORÉ', '79I81RSF IPRO', '82HO111 IPRO - HO COXIM IPRO', '82I78RSF IPRO', '83IX84RSF I2X', '96R29 IPRO', '97Y97 IPRO', '98R30 CE', 'ADAPTA LTT 8402 IPRO', 'ATAQUE I2X', 'BRASMAX BÔNUS IPRO', 'BRASMAX OLIMPO IPRO', 'ELISA IPRO', 'EXPANDE LTT 8301 IPRO', 'FORTALECE L090183 RR', 'FORTALEZA IPRO', 'FTR 3179 IPRO', 'FTR 3190 IPRO', 'FTR 3868 IPRO', 'FTR 4280 IPRO', 'FTR 4288 IPRO', 'GNS7700 IPRO', 'GNS7900 IPRO - AMPLA', 'LAT 1330BT', 'LTT 7901 IPRO', 'LYNDA IPRO', 'M 8644 IPRO', 'MANU IPRO', 'MONSOY 8330I2X', 'MONSOY M8606I2X', 'NEO 760 CE', 'NEO 790 IPRO', 'NK 7777 IPRO', 'NK 8100 IPRO', 'NK 8770 IPRO', 'PAULA IPRO', 'SUZY IPRO', 'SYN2282IPRO', 'TMG 22X83I2X']\n",
        "\n",
        "# @markdown ---\n",
        "# @markdown ### Defina agora os parâmetros de cultivo através dos sliders:\n",
        "\n",
        "# @markdown - Altura da planta (PH, cm) - determinada da superfície do solo até a inserção da última folha com régua milimetrada\n",
        "Altura_da_planta_cm = 63.3 # @param {type: \"slider\", min: 47.6, max: 94.8, step: 0.1}\n",
        "# @markdown - Inserção da primeira vagem (IFP, cm) - determinada da superfície do solo até a inserção do primeiro vegetal\n",
        "Insercao_da_vagem_cm = 16.8 # @param {type: \"slider\", min: 7.2, max: 26.4, step: 0.1}\n",
        "# @markdown - Número de hastes e ramos (NLP, unidade) - por contagem manual\n",
        "Numero_de_hastes_e_ramos = 43.0 # @param {type: \"slider\", min: 20.2, max: 123.0, step: 0.1}\n",
        "# @markdown - Número de grãos por planta (NGL, unidade) - por contagem manual\n",
        "Numero_de_graos_por_planta = 1.71 # @param {type: \"slider\", min: 0.94, max: 14.86, step: 0.01}\n",
        "# @markdown - Número de grãos por vagem (NS, unidade) - por contagem manual\n",
        "Numero_de_graos_por_vagem = 3.7 # @param {type: \"slider\", min: 0.4, max: 9.0, step: 0.1}\n",
        "# @markdown - Massa de mil sementes (MHG, g)\n",
        "Massa_de_mil_sementes = 156.7 # @param {type: \"slider\", min: 127.1, max: 216.0, step: 0.1}\n",
        "\n",
        "# @markdown ---\n",
        "# @markdown ### Operação definida! Agora não esqueça de clicar no botão **`Play`** no canto superior esquerdo para iniciar!\n",
        "\n",
        "run_simulation(start_date = Inicio, end_date = Fim, cultivar = Hibrido, PH = Altura_da_planta_cm, NLP = Numero_de_hastes_e_ramos, NGL = Numero_de_graos_por_planta, NS = Numero_de_graos_por_vagem, IFP = Insercao_da_vagem_cm, MHG = Massa_de_mil_sementes)"
      ]
    },
    {
      "cell_type": "code",
      "execution_count": null,
      "metadata": {
        "id": "ig8PIYeLtM8g",
        "cellView": "form"
      },
      "outputs": [],
      "source": [
        "#@title Visualizar produtividade de grãos (kg/ha)\n",
        "# @markdown Clique no botão **`Play`** à esquerda para visualizar os gráficos do consumo energético da fábrica, em kWh.\n",
        "\n",
        "# @markdown Selecione abaixo se deseja salvar os gráficos gerados:\n",
        "# @markdown - (Basta manter selecionado o botão abaixo para fazer o download das imagens).\n",
        "\n",
        "Exportar_graficos = True #@param {type:\"boolean\"}\n",
        "\n",
        "visualize_yield (export_images = Exportar_graficos)"
      ]
    },
    {
      "cell_type": "code",
      "source": [
        "#@title Fazer download de arquivo Excel com as tabelas de simulação.\n",
        "# @markdown Clique no botão **`Play`** à esquerda para fazer download de uma planilha Excel contendo as tabelas com todas as simulações realizadas até agora.\n",
        "\n",
        "download_excel_with_data()"
      ],
      "metadata": {
        "cellView": "form",
        "id": "OzuZ7b3a0Z1s"
      },
      "execution_count": null,
      "outputs": []
    }
  ],
  "metadata": {
    "colab": {
      "provenance": [],
      "include_colab_link": true
    },
    "kernelspec": {
      "display_name": "Python 3",
      "name": "python3"
    },
    "language_info": {
      "name": "python",
      "version": ""
    }
  },
  "nbformat": 4,
  "nbformat_minor": 0
}